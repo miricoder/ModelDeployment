{
 "cells": [
  {
   "cell_type": "markdown",
   "id": "499b7b85-41a2-4e1e-9982-3f4d0d48a08b",
   "metadata": {},
   "source": [
    "# Modeling\n",
    "\n",
    "**Goal is to build something like this Web Predictor: https://pgurazada1-diamond-price-predictor.hf.space**"
   ]
  },
  {
   "cell_type": "markdown",
   "id": "7faa0c14-ef4f-48dc-bc75-90a73efe6719",
   "metadata": {},
   "source": [
    "### Step 0: Install the Dependencies "
   ]
  },
  {
   "cell_type": "code",
   "execution_count": 3,
   "id": "ab542210-1006-4fd9-87f2-dc5b03390931",
   "metadata": {},
   "outputs": [],
   "source": [
    "# %pip install --upgrade scikit-learn"
   ]
  },
  {
   "cell_type": "code",
   "execution_count": 4,
   "id": "679ef027-9d07-4996-a750-9c5a473f62ec",
   "metadata": {},
   "outputs": [],
   "source": [
    "# %pip install openml"
   ]
  },
  {
   "cell_type": "code",
   "execution_count": 65,
   "id": "cd8f05c4-6a1f-4a6a-9e38-d8e52a5f9ca7",
   "metadata": {},
   "outputs": [],
   "source": [
    "import openml as fetch_openml\n",
    "from sklearn import impute, tree, pipeline\n",
    "from sklearn.datasets import fetch_openml\n",
    "from sklearn.model_selection import train_test_split\n",
    "from sklearn.preprocessing import OneHotEncoder\n",
    "from sklearn.preprocessing import StandardScaler\n",
    "from sklearn.compose import ColumnTransformer\n",
    "from sklearn.compose import make_column_transformer\n",
    "from sklearn.pipeline import Pipeline\n",
    "from sklearn.pipeline import make_pipeline\n",
    "from sklearn.tree     import DecisionTreeRegressor\n",
    "from sklearn.metrics import mean_absolute_error\n",
    "\n",
    "import joblib\n",
    "import os"
   ]
  },
  {
   "cell_type": "markdown",
   "id": "045921cd-8aff-4e27-abcf-6d587ae2faac",
   "metadata": {},
   "source": [
    "#### Step 1: Collect Data\n",
    "\n",
    "**(A) Translation of business problem into a data problem.**\n",
    "* The target\n",
    "* The features\n",
    "* Sources of data\n",
    " \n",
    "**(B) What are the business KPIs here? How do you think the business team will measure the success of your effort?**\n",
    "     \n",
    "     - Simply put business doesn't care about Accuracy, Precision, Recall, F1 Score and Regression Related scores. They have their own concerns. \n",
    "     - Ask the business what KPI objects they will be meausering your model on \n",
    "\n",
    "**(C) A Data Engineer usually handles the orchestration of workflows that are usually referred to as Extract-Transform-Load(ETL) jobs**\n",
    "\n",
    "**(D) Data is scraped from SKUs listed on https://www.brilliantearth.com and hosted on https://www.openml.org**\n"
   ]
  },
  {
   "cell_type": "markdown",
   "id": "f77a2f0e-340d-4e11-bb37-a05fc8529407",
   "metadata": {},
   "source": [
    "###### Access the data from OpenML and pull it into the training environment"
   ]
  },
  {
   "cell_type": "code",
   "execution_count": 2,
   "id": "9d4d1c2f-380a-4c41-a73e-9532bc776b98",
   "metadata": {},
   "outputs": [],
   "source": [
    "dataset = fetch_openml(data_id=43355,\n",
    "                       as_frame=True,\n",
    "                       parser='auto')"
   ]
  },
  {
   "cell_type": "code",
   "execution_count": 6,
   "id": "448509ec-4a4a-4e64-8b1a-6c6f65940c74",
   "metadata": {},
   "outputs": [
    {
     "name": "stdout",
     "output_type": "stream",
     "text": [
      "Context\n",
      "Buying a diamond can be frustrating and expensive.  \n",
      "It inspired me to create this dataset of 119K natural and lab-created diamonds from brilliantearth.com to demystify the value of the 4 Cs  cut, color, clarity, carat.\n",
      "This data was scraped using DiamondScraper.\n",
      "Content\n",
      "\n",
      "\n",
      "\n",
      "Attribute\n",
      "Description\n",
      "Data Type\n",
      "\n",
      "\n",
      "\n",
      "\n",
      "id\n",
      "Diamond identification number provided by Brilliant Earth\n",
      "int\n",
      "\n",
      "\n",
      "url\n",
      "URL for the diamond details page\n",
      "string\n",
      "\n",
      "\n",
      "shape\n",
      "External geometric appearance of a diamond\n",
      "string/categorical\n",
      "\n",
      "\n",
      "price\n",
      "Price in U.S. dollars\n",
      "int\n",
      "\n",
      "\n",
      "carat\n",
      "Unit of measurement used to describe the weight of a diamond\n",
      "float\n",
      "\n",
      "\n",
      "cut\n",
      "Facets, symmetry, and reflective qualities of a diamond\n",
      "string/categorical\n",
      "\n",
      "\n",
      "color\n",
      "Natural color or lack of color visible within a diamond, based on the GIA grade scale\n",
      "string/categorical\n",
      "\n",
      "\n",
      "clarity\n",
      "Visibility of natural microscopic inclusions and imperfections within a diamond\n",
      "string/categorical\n",
      "\n",
      "\n",
      "report\n",
      "Diamond certificate or grading report provided by an independent gemology lab\n",
      "string\n",
      "\n",
      "\n",
      "type\n",
      "Natural or lab created diamonds\n",
      "string\n",
      "\n",
      "\n",
      "date_fetched\n",
      "Date the data was fetched\n",
      "date\n",
      "\n",
      "\n",
      "\n",
      "Acknowledgements\n",
      "Thanks to Brilliant Earth for committing to ethically soured jewelry and for having a great shopping experience.  \n",
      "Check out their buying guide to learn more about diamonds.\n",
      "\n",
      "Downloaded from openml.org.\n"
     ]
    }
   ],
   "source": [
    "print(dataset.DESCR)"
   ]
  },
  {
   "cell_type": "code",
   "execution_count": 7,
   "id": "045c4176-69de-49e4-964c-ed190ff98a53",
   "metadata": {},
   "outputs": [],
   "source": [
    "diamond_prices = dataset.data"
   ]
  },
  {
   "cell_type": "code",
   "execution_count": 8,
   "id": "d995ae38-ccba-43eb-b54e-d65b33836eab",
   "metadata": {},
   "outputs": [
    {
     "name": "stdout",
     "output_type": "stream",
     "text": [
      "<class 'pandas.core.frame.DataFrame'>\n",
      "RangeIndex: 119307 entries, 0 to 119306\n",
      "Data columns (total 11 columns):\n",
      " #   Column        Non-Null Count   Dtype  \n",
      "---  ------        --------------   -----  \n",
      " 0   id            119307 non-null  int64  \n",
      " 1   url           119307 non-null  object \n",
      " 2   shape         119307 non-null  object \n",
      " 3   price         119307 non-null  int64  \n",
      " 4   carat         119307 non-null  float64\n",
      " 5   cut           119307 non-null  object \n",
      " 6   color         119307 non-null  object \n",
      " 7   clarity       119307 non-null  object \n",
      " 8   report        119307 non-null  object \n",
      " 9   type          119307 non-null  object \n",
      " 10  date_fetched  119307 non-null  object \n",
      "dtypes: float64(1), int64(2), object(8)\n",
      "memory usage: 10.0+ MB\n"
     ]
    }
   ],
   "source": [
    "diamond_prices.info()"
   ]
  },
  {
   "cell_type": "markdown",
   "id": "db777917-c348-4813-8d06-39a435457c2e",
   "metadata": {},
   "source": [
    "Decide on Features in the Dataset that are relevant to data problem framed"
   ]
  },
  {
   "cell_type": "code",
   "execution_count": 9,
   "id": "bd497a42-4a4f-4231-9709-130ba2a883c4",
   "metadata": {},
   "outputs": [],
   "source": [
    "target = 'price'\n",
    "numeric_features = ['carat']\n",
    "categorical_features = ['shape', 'cut', 'color', 'clarity', 'report', 'type']"
   ]
  },
  {
   "cell_type": "markdown",
   "id": "c4640021-73f4-4a8a-9fbc-42530f8dac9a",
   "metadata": {},
   "source": [
    "#### Step 2: EDA - Exploratory Data Analysis\n",
    "\n",
    "**Crucial to identify good Test Cases for the Deployed Model** : For Instance: What happens if customer is looking for 50k carat diamond instead of what we have in the dataset**\n",
    "\n",
    "**Good EDA** allows you to build a Good Customer Facing Interface that works with actual existing data customer can interact with`"
   ]
  },
  {
   "cell_type": "code",
   "execution_count": 10,
   "id": "94089fbc-dc8a-4368-840d-65d56940b88d",
   "metadata": {},
   "outputs": [
    {
     "data": {
      "text/html": [
       "<div>\n",
       "<style scoped>\n",
       "    .dataframe tbody tr th:only-of-type {\n",
       "        vertical-align: middle;\n",
       "    }\n",
       "\n",
       "    .dataframe tbody tr th {\n",
       "        vertical-align: top;\n",
       "    }\n",
       "\n",
       "    .dataframe thead th {\n",
       "        text-align: right;\n",
       "    }\n",
       "</style>\n",
       "<table border=\"1\" class=\"dataframe\">\n",
       "  <thead>\n",
       "    <tr style=\"text-align: right;\">\n",
       "      <th></th>\n",
       "      <th>id</th>\n",
       "      <th>url</th>\n",
       "      <th>shape</th>\n",
       "      <th>price</th>\n",
       "      <th>carat</th>\n",
       "      <th>cut</th>\n",
       "      <th>color</th>\n",
       "      <th>clarity</th>\n",
       "      <th>report</th>\n",
       "      <th>type</th>\n",
       "      <th>date_fetched</th>\n",
       "    </tr>\n",
       "  </thead>\n",
       "  <tbody>\n",
       "    <tr>\n",
       "      <th>0</th>\n",
       "      <td>10086429</td>\n",
       "      <td>https://www.brilliantearth.com//loose-diamonds...</td>\n",
       "      <td>Round</td>\n",
       "      <td>400</td>\n",
       "      <td>0.30</td>\n",
       "      <td>'Very Good'</td>\n",
       "      <td>J</td>\n",
       "      <td>SI2</td>\n",
       "      <td>GIA</td>\n",
       "      <td>natural</td>\n",
       "      <td>'2020-11-29 12-26 PM'</td>\n",
       "    </tr>\n",
       "    <tr>\n",
       "      <th>1</th>\n",
       "      <td>10016334</td>\n",
       "      <td>https://www.brilliantearth.com//loose-diamonds...</td>\n",
       "      <td>Emerald</td>\n",
       "      <td>400</td>\n",
       "      <td>0.31</td>\n",
       "      <td>Ideal</td>\n",
       "      <td>I</td>\n",
       "      <td>SI1</td>\n",
       "      <td>GIA</td>\n",
       "      <td>natural</td>\n",
       "      <td>'2020-11-29 12-26 PM'</td>\n",
       "    </tr>\n",
       "    <tr>\n",
       "      <th>2</th>\n",
       "      <td>9947216</td>\n",
       "      <td>https://www.brilliantearth.com//loose-diamonds...</td>\n",
       "      <td>Emerald</td>\n",
       "      <td>400</td>\n",
       "      <td>0.30</td>\n",
       "      <td>Ideal</td>\n",
       "      <td>I</td>\n",
       "      <td>VS2</td>\n",
       "      <td>GIA</td>\n",
       "      <td>natural</td>\n",
       "      <td>'2020-11-29 12-26 PM'</td>\n",
       "    </tr>\n",
       "    <tr>\n",
       "      <th>3</th>\n",
       "      <td>10083437</td>\n",
       "      <td>https://www.brilliantearth.com//loose-diamonds...</td>\n",
       "      <td>Round</td>\n",
       "      <td>400</td>\n",
       "      <td>0.30</td>\n",
       "      <td>Ideal</td>\n",
       "      <td>I</td>\n",
       "      <td>SI2</td>\n",
       "      <td>GIA</td>\n",
       "      <td>natural</td>\n",
       "      <td>'2020-11-29 12-26 PM'</td>\n",
       "    </tr>\n",
       "    <tr>\n",
       "      <th>4</th>\n",
       "      <td>9946136</td>\n",
       "      <td>https://www.brilliantearth.com//loose-diamonds...</td>\n",
       "      <td>Emerald</td>\n",
       "      <td>400</td>\n",
       "      <td>0.30</td>\n",
       "      <td>Ideal</td>\n",
       "      <td>I</td>\n",
       "      <td>SI1</td>\n",
       "      <td>GIA</td>\n",
       "      <td>natural</td>\n",
       "      <td>'2020-11-29 12-26 PM'</td>\n",
       "    </tr>\n",
       "  </tbody>\n",
       "</table>\n",
       "</div>"
      ],
      "text/plain": [
       "         id                                                url    shape  \\\n",
       "0  10086429  https://www.brilliantearth.com//loose-diamonds...    Round   \n",
       "1  10016334  https://www.brilliantearth.com//loose-diamonds...  Emerald   \n",
       "2   9947216  https://www.brilliantearth.com//loose-diamonds...  Emerald   \n",
       "3  10083437  https://www.brilliantearth.com//loose-diamonds...    Round   \n",
       "4   9946136  https://www.brilliantearth.com//loose-diamonds...  Emerald   \n",
       "\n",
       "   price  carat          cut color clarity report     type  \\\n",
       "0    400   0.30  'Very Good'     J     SI2    GIA  natural   \n",
       "1    400   0.31        Ideal     I     SI1    GIA  natural   \n",
       "2    400   0.30        Ideal     I     VS2    GIA  natural   \n",
       "3    400   0.30        Ideal     I     SI2    GIA  natural   \n",
       "4    400   0.30        Ideal     I     SI1    GIA  natural   \n",
       "\n",
       "            date_fetched  \n",
       "0  '2020-11-29 12-26 PM'  \n",
       "1  '2020-11-29 12-26 PM'  \n",
       "2  '2020-11-29 12-26 PM'  \n",
       "3  '2020-11-29 12-26 PM'  \n",
       "4  '2020-11-29 12-26 PM'  "
      ]
     },
     "execution_count": 10,
     "metadata": {},
     "output_type": "execute_result"
    }
   ],
   "source": [
    "diamond_prices.head()"
   ]
  },
  {
   "cell_type": "code",
   "execution_count": 12,
   "id": "d7f28861-c469-41c5-9d63-ac9e1159a923",
   "metadata": {},
   "outputs": [
    {
     "data": {
      "text/html": [
       "<div>\n",
       "<style scoped>\n",
       "    .dataframe tbody tr th:only-of-type {\n",
       "        vertical-align: middle;\n",
       "    }\n",
       "\n",
       "    .dataframe tbody tr th {\n",
       "        vertical-align: top;\n",
       "    }\n",
       "\n",
       "    .dataframe thead th {\n",
       "        text-align: right;\n",
       "    }\n",
       "</style>\n",
       "<table border=\"1\" class=\"dataframe\">\n",
       "  <thead>\n",
       "    <tr style=\"text-align: right;\">\n",
       "      <th></th>\n",
       "      <th>price</th>\n",
       "    </tr>\n",
       "  </thead>\n",
       "  <tbody>\n",
       "    <tr>\n",
       "      <th>count</th>\n",
       "      <td>1.193070e+05</td>\n",
       "    </tr>\n",
       "    <tr>\n",
       "      <th>mean</th>\n",
       "      <td>3.286843e+03</td>\n",
       "    </tr>\n",
       "    <tr>\n",
       "      <th>std</th>\n",
       "      <td>9.114695e+03</td>\n",
       "    </tr>\n",
       "    <tr>\n",
       "      <th>min</th>\n",
       "      <td>2.700000e+02</td>\n",
       "    </tr>\n",
       "    <tr>\n",
       "      <th>25%</th>\n",
       "      <td>9.000000e+02</td>\n",
       "    </tr>\n",
       "    <tr>\n",
       "      <th>50%</th>\n",
       "      <td>1.770000e+03</td>\n",
       "    </tr>\n",
       "    <tr>\n",
       "      <th>75%</th>\n",
       "      <td>3.490000e+03</td>\n",
       "    </tr>\n",
       "    <tr>\n",
       "      <th>max</th>\n",
       "      <td>1.348720e+06</td>\n",
       "    </tr>\n",
       "  </tbody>\n",
       "</table>\n",
       "</div>"
      ],
      "text/plain": [
       "              price\n",
       "count  1.193070e+05\n",
       "mean   3.286843e+03\n",
       "std    9.114695e+03\n",
       "min    2.700000e+02\n",
       "25%    9.000000e+02\n",
       "50%    1.770000e+03\n",
       "75%    3.490000e+03\n",
       "max    1.348720e+06"
      ]
     },
     "execution_count": 12,
     "metadata": {},
     "output_type": "execute_result"
    }
   ],
   "source": [
    "diamond_prices.loc[:, [target]].describe()"
   ]
  },
  {
   "cell_type": "code",
   "execution_count": 17,
   "id": "d66cf2d2-dadd-4e00-ae9f-9ffb5b7029bb",
   "metadata": {},
   "outputs": [
    {
     "data": {
      "text/html": [
       "<div>\n",
       "<style scoped>\n",
       "    .dataframe tbody tr th:only-of-type {\n",
       "        vertical-align: middle;\n",
       "    }\n",
       "\n",
       "    .dataframe tbody tr th {\n",
       "        vertical-align: top;\n",
       "    }\n",
       "\n",
       "    .dataframe thead th {\n",
       "        text-align: right;\n",
       "    }\n",
       "</style>\n",
       "<table border=\"1\" class=\"dataframe\">\n",
       "  <thead>\n",
       "    <tr style=\"text-align: right;\">\n",
       "      <th></th>\n",
       "      <th>carat</th>\n",
       "    </tr>\n",
       "  </thead>\n",
       "  <tbody>\n",
       "    <tr>\n",
       "      <th>count</th>\n",
       "      <td>119307.000000</td>\n",
       "    </tr>\n",
       "    <tr>\n",
       "      <th>mean</th>\n",
       "      <td>0.884169</td>\n",
       "    </tr>\n",
       "    <tr>\n",
       "      <th>std</th>\n",
       "      <td>0.671141</td>\n",
       "    </tr>\n",
       "    <tr>\n",
       "      <th>min</th>\n",
       "      <td>0.250000</td>\n",
       "    </tr>\n",
       "    <tr>\n",
       "      <th>25%</th>\n",
       "      <td>0.400000</td>\n",
       "    </tr>\n",
       "    <tr>\n",
       "      <th>50%</th>\n",
       "      <td>0.700000</td>\n",
       "    </tr>\n",
       "    <tr>\n",
       "      <th>75%</th>\n",
       "      <td>1.100000</td>\n",
       "    </tr>\n",
       "    <tr>\n",
       "      <th>max</th>\n",
       "      <td>15.320000</td>\n",
       "    </tr>\n",
       "  </tbody>\n",
       "</table>\n",
       "</div>"
      ],
      "text/plain": [
       "               carat\n",
       "count  119307.000000\n",
       "mean        0.884169\n",
       "std         0.671141\n",
       "min         0.250000\n",
       "25%         0.400000\n",
       "50%         0.700000\n",
       "75%         1.100000\n",
       "max        15.320000"
      ]
     },
     "execution_count": 17,
     "metadata": {},
     "output_type": "execute_result"
    }
   ],
   "source": [
    "diamond_prices.loc[:, numeric_features].describe()"
   ]
  },
  {
   "cell_type": "markdown",
   "id": "c406acac-db96-456b-93fb-435563fe7ab7",
   "metadata": {},
   "source": [
    "**`Observation`**\n",
    "   - Max number of carats that can be searched in End Model/Interface is 15 Carats, in order to predict the correct price"
   ]
  },
  {
   "cell_type": "code",
   "execution_count": 14,
   "id": "accad3be-3909-49ae-8c0a-e5bec6f5b8f8",
   "metadata": {},
   "outputs": [
    {
     "data": {
      "text/html": [
       "<div>\n",
       "<style scoped>\n",
       "    .dataframe tbody tr th:only-of-type {\n",
       "        vertical-align: middle;\n",
       "    }\n",
       "\n",
       "    .dataframe tbody tr th {\n",
       "        vertical-align: top;\n",
       "    }\n",
       "\n",
       "    .dataframe thead th {\n",
       "        text-align: right;\n",
       "    }\n",
       "</style>\n",
       "<table border=\"1\" class=\"dataframe\">\n",
       "  <thead>\n",
       "    <tr style=\"text-align: right;\">\n",
       "      <th></th>\n",
       "      <th>shape</th>\n",
       "      <th>cut</th>\n",
       "      <th>color</th>\n",
       "      <th>clarity</th>\n",
       "      <th>report</th>\n",
       "      <th>type</th>\n",
       "    </tr>\n",
       "  </thead>\n",
       "  <tbody>\n",
       "    <tr>\n",
       "      <th>count</th>\n",
       "      <td>119307</td>\n",
       "      <td>119307</td>\n",
       "      <td>119307</td>\n",
       "      <td>119307</td>\n",
       "      <td>119307</td>\n",
       "      <td>119307</td>\n",
       "    </tr>\n",
       "    <tr>\n",
       "      <th>unique</th>\n",
       "      <td>10</td>\n",
       "      <td>5</td>\n",
       "      <td>7</td>\n",
       "      <td>8</td>\n",
       "      <td>4</td>\n",
       "      <td>2</td>\n",
       "    </tr>\n",
       "    <tr>\n",
       "      <th>top</th>\n",
       "      <td>Round</td>\n",
       "      <td>'Super Ideal'</td>\n",
       "      <td>E</td>\n",
       "      <td>VS1</td>\n",
       "      <td>GIA</td>\n",
       "      <td>natural</td>\n",
       "    </tr>\n",
       "    <tr>\n",
       "      <th>freq</th>\n",
       "      <td>76080</td>\n",
       "      <td>55244</td>\n",
       "      <td>24730</td>\n",
       "      <td>27259</td>\n",
       "      <td>68782</td>\n",
       "      <td>70313</td>\n",
       "    </tr>\n",
       "  </tbody>\n",
       "</table>\n",
       "</div>"
      ],
      "text/plain": [
       "         shape            cut   color clarity  report     type\n",
       "count   119307         119307  119307  119307  119307   119307\n",
       "unique      10              5       7       8       4        2\n",
       "top      Round  'Super Ideal'       E     VS1     GIA  natural\n",
       "freq     76080          55244   24730   27259   68782    70313"
      ]
     },
     "execution_count": 14,
     "metadata": {},
     "output_type": "execute_result"
    }
   ],
   "source": [
    "diamond_prices.loc[:, categorical_features].describe()"
   ]
  },
  {
   "cell_type": "markdown",
   "id": "262af1eb-c9e2-45ea-bb52-5b72032c7094",
   "metadata": {},
   "source": [
    "#### Step 3: Build Model\n",
    "\n",
    "**REMEMBER WE NEVER DEPLOY MODELS BUT MODEL PIPELINEs**"
   ]
  },
  {
   "cell_type": "code",
   "execution_count": 20,
   "id": "4ef1e3b0-d4c3-444f-abe5-de6e9843596a",
   "metadata": {},
   "outputs": [],
   "source": [
    "# seperate the features and the target \n",
    "# exclude id, url and date_fetched from the features \n",
    "\n",
    "X = diamond_prices.drop(columns=[target, 'id', 'url', 'date_fetched'])\n",
    "y = diamond_prices[target]"
   ]
  },
  {
   "cell_type": "code",
   "execution_count": 24,
   "id": "95255562-9735-4786-8109-8ed1dcd92aab",
   "metadata": {},
   "outputs": [],
   "source": [
    "# Create a train-test split \n",
    "Xtrain, Xtest, ytrain, ytest = train_test_split(X, y,\n",
    "                                                test_size = 0.2,\n",
    "                                                random_state=42)"
   ]
  },
  {
   "cell_type": "markdown",
   "id": "fe776975-f138-4978-b5a2-2d57df01c487",
   "metadata": {},
   "source": [
    "We Are saving the data with a specific date name in order to Version the data PROPERLY"
   ]
  },
  {
   "cell_type": "code",
   "execution_count": 26,
   "id": "f5ca1d11-a162-41b9-8f99-40a66986b2c1",
   "metadata": {},
   "outputs": [],
   "source": [
    "# Saving the version \n",
    "Xtrain.to_csv('data/20230322_training_features.csv', index=False)\n",
    "ytrain.to_csv('data/20230322_training_target.csv', index=False)"
   ]
  },
  {
   "cell_type": "markdown",
   "id": "46f16c1c-aaab-4d61-8da4-58fa25e226b2",
   "metadata": {},
   "source": [
    "#### Preprocessing & Assembling the Preprocesser into Model Pipeline:  So that when inputs are enetered by the customer in the Interface, they will be preprocessed properly before giving prediction to the customer. This is a background job. \n",
    "preprocessor= make_column_transformer((StandardScaler(), numeric_features), (OneHotEncoder(handle_uknown='ignore'), categorical_features))"
   ]
  },
  {
   "cell_type": "code",
   "execution_count": 31,
   "id": "cc4ac6d5-ff53-4c49-add4-b5246d225272",
   "metadata": {},
   "outputs": [],
   "source": [
    "preprocessor = make_column_transformer((StandardScaler(), numeric_features), \n",
    "                                       (OneHotEncoder(handle_unknown='ignore'), \n",
    "                                        categorical_features))"
   ]
  },
  {
   "cell_type": "code",
   "execution_count": 40,
   "id": "a0c2b26f-f7c5-404d-a397-f33b02959e17",
   "metadata": {},
   "outputs": [],
   "source": [
    "model_pipeline = pipeline.make_pipeline(preprocessor,\n",
    "                               DecisionTreeRegressor())"
   ]
  },
  {
   "cell_type": "code",
   "execution_count": 41,
   "id": "0525892a-b839-4511-9b92-16b46b64340b",
   "metadata": {},
   "outputs": [
    {
     "data": {
      "text/html": [
       "<style>#sk-container-id-1 {color: black;}#sk-container-id-1 pre{padding: 0;}#sk-container-id-1 div.sk-toggleable {background-color: white;}#sk-container-id-1 label.sk-toggleable__label {cursor: pointer;display: block;width: 100%;margin-bottom: 0;padding: 0.3em;box-sizing: border-box;text-align: center;}#sk-container-id-1 label.sk-toggleable__label-arrow:before {content: \"▸\";float: left;margin-right: 0.25em;color: #696969;}#sk-container-id-1 label.sk-toggleable__label-arrow:hover:before {color: black;}#sk-container-id-1 div.sk-estimator:hover label.sk-toggleable__label-arrow:before {color: black;}#sk-container-id-1 div.sk-toggleable__content {max-height: 0;max-width: 0;overflow: hidden;text-align: left;background-color: #f0f8ff;}#sk-container-id-1 div.sk-toggleable__content pre {margin: 0.2em;color: black;border-radius: 0.25em;background-color: #f0f8ff;}#sk-container-id-1 input.sk-toggleable__control:checked~div.sk-toggleable__content {max-height: 200px;max-width: 100%;overflow: auto;}#sk-container-id-1 input.sk-toggleable__control:checked~label.sk-toggleable__label-arrow:before {content: \"▾\";}#sk-container-id-1 div.sk-estimator input.sk-toggleable__control:checked~label.sk-toggleable__label {background-color: #d4ebff;}#sk-container-id-1 div.sk-label input.sk-toggleable__control:checked~label.sk-toggleable__label {background-color: #d4ebff;}#sk-container-id-1 input.sk-hidden--visually {border: 0;clip: rect(1px 1px 1px 1px);clip: rect(1px, 1px, 1px, 1px);height: 1px;margin: -1px;overflow: hidden;padding: 0;position: absolute;width: 1px;}#sk-container-id-1 div.sk-estimator {font-family: monospace;background-color: #f0f8ff;border: 1px dotted black;border-radius: 0.25em;box-sizing: border-box;margin-bottom: 0.5em;}#sk-container-id-1 div.sk-estimator:hover {background-color: #d4ebff;}#sk-container-id-1 div.sk-parallel-item::after {content: \"\";width: 100%;border-bottom: 1px solid gray;flex-grow: 1;}#sk-container-id-1 div.sk-label:hover label.sk-toggleable__label {background-color: #d4ebff;}#sk-container-id-1 div.sk-serial::before {content: \"\";position: absolute;border-left: 1px solid gray;box-sizing: border-box;top: 0;bottom: 0;left: 50%;z-index: 0;}#sk-container-id-1 div.sk-serial {display: flex;flex-direction: column;align-items: center;background-color: white;padding-right: 0.2em;padding-left: 0.2em;position: relative;}#sk-container-id-1 div.sk-item {position: relative;z-index: 1;}#sk-container-id-1 div.sk-parallel {display: flex;align-items: stretch;justify-content: center;background-color: white;position: relative;}#sk-container-id-1 div.sk-item::before, #sk-container-id-1 div.sk-parallel-item::before {content: \"\";position: absolute;border-left: 1px solid gray;box-sizing: border-box;top: 0;bottom: 0;left: 50%;z-index: -1;}#sk-container-id-1 div.sk-parallel-item {display: flex;flex-direction: column;z-index: 1;position: relative;background-color: white;}#sk-container-id-1 div.sk-parallel-item:first-child::after {align-self: flex-end;width: 50%;}#sk-container-id-1 div.sk-parallel-item:last-child::after {align-self: flex-start;width: 50%;}#sk-container-id-1 div.sk-parallel-item:only-child::after {width: 0;}#sk-container-id-1 div.sk-dashed-wrapped {border: 1px dashed gray;margin: 0 0.4em 0.5em 0.4em;box-sizing: border-box;padding-bottom: 0.4em;background-color: white;}#sk-container-id-1 div.sk-label label {font-family: monospace;font-weight: bold;display: inline-block;line-height: 1.2em;}#sk-container-id-1 div.sk-label-container {text-align: center;}#sk-container-id-1 div.sk-container {/* jupyter's `normalize.less` sets `[hidden] { display: none; }` but bootstrap.min.css set `[hidden] { display: none !important; }` so we also need the `!important` here to be able to override the default hidden behavior on the sphinx rendered scikit-learn.org. See: https://github.com/scikit-learn/scikit-learn/issues/21755 */display: inline-block !important;position: relative;}#sk-container-id-1 div.sk-text-repr-fallback {display: none;}</style><div id=\"sk-container-id-1\" class=\"sk-top-container\"><div class=\"sk-text-repr-fallback\"><pre>Pipeline(steps=[(&#x27;columntransformer&#x27;,\n",
       "                 ColumnTransformer(transformers=[(&#x27;standardscaler&#x27;,\n",
       "                                                  StandardScaler(), [&#x27;carat&#x27;]),\n",
       "                                                 (&#x27;onehotencoder&#x27;,\n",
       "                                                  OneHotEncoder(handle_unknown=&#x27;ignore&#x27;),\n",
       "                                                  [&#x27;shape&#x27;, &#x27;cut&#x27;, &#x27;color&#x27;,\n",
       "                                                   &#x27;clarity&#x27;, &#x27;report&#x27;,\n",
       "                                                   &#x27;type&#x27;])])),\n",
       "                (&#x27;decisiontreeregressor&#x27;, DecisionTreeRegressor())])</pre><b>In a Jupyter environment, please rerun this cell to show the HTML representation or trust the notebook. <br />On GitHub, the HTML representation is unable to render, please try loading this page with nbviewer.org.</b></div><div class=\"sk-container\" hidden><div class=\"sk-item sk-dashed-wrapped\"><div class=\"sk-label-container\"><div class=\"sk-label sk-toggleable\"><input class=\"sk-toggleable__control sk-hidden--visually\" id=\"sk-estimator-id-1\" type=\"checkbox\" ><label for=\"sk-estimator-id-1\" class=\"sk-toggleable__label sk-toggleable__label-arrow\">Pipeline</label><div class=\"sk-toggleable__content\"><pre>Pipeline(steps=[(&#x27;columntransformer&#x27;,\n",
       "                 ColumnTransformer(transformers=[(&#x27;standardscaler&#x27;,\n",
       "                                                  StandardScaler(), [&#x27;carat&#x27;]),\n",
       "                                                 (&#x27;onehotencoder&#x27;,\n",
       "                                                  OneHotEncoder(handle_unknown=&#x27;ignore&#x27;),\n",
       "                                                  [&#x27;shape&#x27;, &#x27;cut&#x27;, &#x27;color&#x27;,\n",
       "                                                   &#x27;clarity&#x27;, &#x27;report&#x27;,\n",
       "                                                   &#x27;type&#x27;])])),\n",
       "                (&#x27;decisiontreeregressor&#x27;, DecisionTreeRegressor())])</pre></div></div></div><div class=\"sk-serial\"><div class=\"sk-item sk-dashed-wrapped\"><div class=\"sk-label-container\"><div class=\"sk-label sk-toggleable\"><input class=\"sk-toggleable__control sk-hidden--visually\" id=\"sk-estimator-id-2\" type=\"checkbox\" ><label for=\"sk-estimator-id-2\" class=\"sk-toggleable__label sk-toggleable__label-arrow\">columntransformer: ColumnTransformer</label><div class=\"sk-toggleable__content\"><pre>ColumnTransformer(transformers=[(&#x27;standardscaler&#x27;, StandardScaler(), [&#x27;carat&#x27;]),\n",
       "                                (&#x27;onehotencoder&#x27;,\n",
       "                                 OneHotEncoder(handle_unknown=&#x27;ignore&#x27;),\n",
       "                                 [&#x27;shape&#x27;, &#x27;cut&#x27;, &#x27;color&#x27;, &#x27;clarity&#x27;, &#x27;report&#x27;,\n",
       "                                  &#x27;type&#x27;])])</pre></div></div></div><div class=\"sk-parallel\"><div class=\"sk-parallel-item\"><div class=\"sk-item\"><div class=\"sk-label-container\"><div class=\"sk-label sk-toggleable\"><input class=\"sk-toggleable__control sk-hidden--visually\" id=\"sk-estimator-id-3\" type=\"checkbox\" ><label for=\"sk-estimator-id-3\" class=\"sk-toggleable__label sk-toggleable__label-arrow\">standardscaler</label><div class=\"sk-toggleable__content\"><pre>[&#x27;carat&#x27;]</pre></div></div></div><div class=\"sk-serial\"><div class=\"sk-item\"><div class=\"sk-estimator sk-toggleable\"><input class=\"sk-toggleable__control sk-hidden--visually\" id=\"sk-estimator-id-4\" type=\"checkbox\" ><label for=\"sk-estimator-id-4\" class=\"sk-toggleable__label sk-toggleable__label-arrow\">StandardScaler</label><div class=\"sk-toggleable__content\"><pre>StandardScaler()</pre></div></div></div></div></div></div><div class=\"sk-parallel-item\"><div class=\"sk-item\"><div class=\"sk-label-container\"><div class=\"sk-label sk-toggleable\"><input class=\"sk-toggleable__control sk-hidden--visually\" id=\"sk-estimator-id-5\" type=\"checkbox\" ><label for=\"sk-estimator-id-5\" class=\"sk-toggleable__label sk-toggleable__label-arrow\">onehotencoder</label><div class=\"sk-toggleable__content\"><pre>[&#x27;shape&#x27;, &#x27;cut&#x27;, &#x27;color&#x27;, &#x27;clarity&#x27;, &#x27;report&#x27;, &#x27;type&#x27;]</pre></div></div></div><div class=\"sk-serial\"><div class=\"sk-item\"><div class=\"sk-estimator sk-toggleable\"><input class=\"sk-toggleable__control sk-hidden--visually\" id=\"sk-estimator-id-6\" type=\"checkbox\" ><label for=\"sk-estimator-id-6\" class=\"sk-toggleable__label sk-toggleable__label-arrow\">OneHotEncoder</label><div class=\"sk-toggleable__content\"><pre>OneHotEncoder(handle_unknown=&#x27;ignore&#x27;)</pre></div></div></div></div></div></div></div></div><div class=\"sk-item\"><div class=\"sk-estimator sk-toggleable\"><input class=\"sk-toggleable__control sk-hidden--visually\" id=\"sk-estimator-id-7\" type=\"checkbox\" ><label for=\"sk-estimator-id-7\" class=\"sk-toggleable__label sk-toggleable__label-arrow\">DecisionTreeRegressor</label><div class=\"sk-toggleable__content\"><pre>DecisionTreeRegressor()</pre></div></div></div></div></div></div></div>"
      ],
      "text/plain": [
       "Pipeline(steps=[('columntransformer',\n",
       "                 ColumnTransformer(transformers=[('standardscaler',\n",
       "                                                  StandardScaler(), ['carat']),\n",
       "                                                 ('onehotencoder',\n",
       "                                                  OneHotEncoder(handle_unknown='ignore'),\n",
       "                                                  ['shape', 'cut', 'color',\n",
       "                                                   'clarity', 'report',\n",
       "                                                   'type'])])),\n",
       "                ('decisiontreeregressor', DecisionTreeRegressor())])"
      ]
     },
     "execution_count": 41,
     "metadata": {},
     "output_type": "execute_result"
    }
   ],
   "source": [
    "model_pipeline"
   ]
  },
  {
   "cell_type": "code",
   "execution_count": 42,
   "id": "29de36da-16f6-4039-90c8-d46d08fd24b8",
   "metadata": {},
   "outputs": [
    {
     "data": {
      "text/html": [
       "<style>#sk-container-id-2 {color: black;}#sk-container-id-2 pre{padding: 0;}#sk-container-id-2 div.sk-toggleable {background-color: white;}#sk-container-id-2 label.sk-toggleable__label {cursor: pointer;display: block;width: 100%;margin-bottom: 0;padding: 0.3em;box-sizing: border-box;text-align: center;}#sk-container-id-2 label.sk-toggleable__label-arrow:before {content: \"▸\";float: left;margin-right: 0.25em;color: #696969;}#sk-container-id-2 label.sk-toggleable__label-arrow:hover:before {color: black;}#sk-container-id-2 div.sk-estimator:hover label.sk-toggleable__label-arrow:before {color: black;}#sk-container-id-2 div.sk-toggleable__content {max-height: 0;max-width: 0;overflow: hidden;text-align: left;background-color: #f0f8ff;}#sk-container-id-2 div.sk-toggleable__content pre {margin: 0.2em;color: black;border-radius: 0.25em;background-color: #f0f8ff;}#sk-container-id-2 input.sk-toggleable__control:checked~div.sk-toggleable__content {max-height: 200px;max-width: 100%;overflow: auto;}#sk-container-id-2 input.sk-toggleable__control:checked~label.sk-toggleable__label-arrow:before {content: \"▾\";}#sk-container-id-2 div.sk-estimator input.sk-toggleable__control:checked~label.sk-toggleable__label {background-color: #d4ebff;}#sk-container-id-2 div.sk-label input.sk-toggleable__control:checked~label.sk-toggleable__label {background-color: #d4ebff;}#sk-container-id-2 input.sk-hidden--visually {border: 0;clip: rect(1px 1px 1px 1px);clip: rect(1px, 1px, 1px, 1px);height: 1px;margin: -1px;overflow: hidden;padding: 0;position: absolute;width: 1px;}#sk-container-id-2 div.sk-estimator {font-family: monospace;background-color: #f0f8ff;border: 1px dotted black;border-radius: 0.25em;box-sizing: border-box;margin-bottom: 0.5em;}#sk-container-id-2 div.sk-estimator:hover {background-color: #d4ebff;}#sk-container-id-2 div.sk-parallel-item::after {content: \"\";width: 100%;border-bottom: 1px solid gray;flex-grow: 1;}#sk-container-id-2 div.sk-label:hover label.sk-toggleable__label {background-color: #d4ebff;}#sk-container-id-2 div.sk-serial::before {content: \"\";position: absolute;border-left: 1px solid gray;box-sizing: border-box;top: 0;bottom: 0;left: 50%;z-index: 0;}#sk-container-id-2 div.sk-serial {display: flex;flex-direction: column;align-items: center;background-color: white;padding-right: 0.2em;padding-left: 0.2em;position: relative;}#sk-container-id-2 div.sk-item {position: relative;z-index: 1;}#sk-container-id-2 div.sk-parallel {display: flex;align-items: stretch;justify-content: center;background-color: white;position: relative;}#sk-container-id-2 div.sk-item::before, #sk-container-id-2 div.sk-parallel-item::before {content: \"\";position: absolute;border-left: 1px solid gray;box-sizing: border-box;top: 0;bottom: 0;left: 50%;z-index: -1;}#sk-container-id-2 div.sk-parallel-item {display: flex;flex-direction: column;z-index: 1;position: relative;background-color: white;}#sk-container-id-2 div.sk-parallel-item:first-child::after {align-self: flex-end;width: 50%;}#sk-container-id-2 div.sk-parallel-item:last-child::after {align-self: flex-start;width: 50%;}#sk-container-id-2 div.sk-parallel-item:only-child::after {width: 0;}#sk-container-id-2 div.sk-dashed-wrapped {border: 1px dashed gray;margin: 0 0.4em 0.5em 0.4em;box-sizing: border-box;padding-bottom: 0.4em;background-color: white;}#sk-container-id-2 div.sk-label label {font-family: monospace;font-weight: bold;display: inline-block;line-height: 1.2em;}#sk-container-id-2 div.sk-label-container {text-align: center;}#sk-container-id-2 div.sk-container {/* jupyter's `normalize.less` sets `[hidden] { display: none; }` but bootstrap.min.css set `[hidden] { display: none !important; }` so we also need the `!important` here to be able to override the default hidden behavior on the sphinx rendered scikit-learn.org. See: https://github.com/scikit-learn/scikit-learn/issues/21755 */display: inline-block !important;position: relative;}#sk-container-id-2 div.sk-text-repr-fallback {display: none;}</style><div id=\"sk-container-id-2\" class=\"sk-top-container\"><div class=\"sk-text-repr-fallback\"><pre>Pipeline(steps=[(&#x27;columntransformer&#x27;,\n",
       "                 ColumnTransformer(transformers=[(&#x27;standardscaler&#x27;,\n",
       "                                                  StandardScaler(), [&#x27;carat&#x27;]),\n",
       "                                                 (&#x27;onehotencoder&#x27;,\n",
       "                                                  OneHotEncoder(handle_unknown=&#x27;ignore&#x27;),\n",
       "                                                  [&#x27;shape&#x27;, &#x27;cut&#x27;, &#x27;color&#x27;,\n",
       "                                                   &#x27;clarity&#x27;, &#x27;report&#x27;,\n",
       "                                                   &#x27;type&#x27;])])),\n",
       "                (&#x27;decisiontreeregressor&#x27;, DecisionTreeRegressor())])</pre><b>In a Jupyter environment, please rerun this cell to show the HTML representation or trust the notebook. <br />On GitHub, the HTML representation is unable to render, please try loading this page with nbviewer.org.</b></div><div class=\"sk-container\" hidden><div class=\"sk-item sk-dashed-wrapped\"><div class=\"sk-label-container\"><div class=\"sk-label sk-toggleable\"><input class=\"sk-toggleable__control sk-hidden--visually\" id=\"sk-estimator-id-8\" type=\"checkbox\" ><label for=\"sk-estimator-id-8\" class=\"sk-toggleable__label sk-toggleable__label-arrow\">Pipeline</label><div class=\"sk-toggleable__content\"><pre>Pipeline(steps=[(&#x27;columntransformer&#x27;,\n",
       "                 ColumnTransformer(transformers=[(&#x27;standardscaler&#x27;,\n",
       "                                                  StandardScaler(), [&#x27;carat&#x27;]),\n",
       "                                                 (&#x27;onehotencoder&#x27;,\n",
       "                                                  OneHotEncoder(handle_unknown=&#x27;ignore&#x27;),\n",
       "                                                  [&#x27;shape&#x27;, &#x27;cut&#x27;, &#x27;color&#x27;,\n",
       "                                                   &#x27;clarity&#x27;, &#x27;report&#x27;,\n",
       "                                                   &#x27;type&#x27;])])),\n",
       "                (&#x27;decisiontreeregressor&#x27;, DecisionTreeRegressor())])</pre></div></div></div><div class=\"sk-serial\"><div class=\"sk-item sk-dashed-wrapped\"><div class=\"sk-label-container\"><div class=\"sk-label sk-toggleable\"><input class=\"sk-toggleable__control sk-hidden--visually\" id=\"sk-estimator-id-9\" type=\"checkbox\" ><label for=\"sk-estimator-id-9\" class=\"sk-toggleable__label sk-toggleable__label-arrow\">columntransformer: ColumnTransformer</label><div class=\"sk-toggleable__content\"><pre>ColumnTransformer(transformers=[(&#x27;standardscaler&#x27;, StandardScaler(), [&#x27;carat&#x27;]),\n",
       "                                (&#x27;onehotencoder&#x27;,\n",
       "                                 OneHotEncoder(handle_unknown=&#x27;ignore&#x27;),\n",
       "                                 [&#x27;shape&#x27;, &#x27;cut&#x27;, &#x27;color&#x27;, &#x27;clarity&#x27;, &#x27;report&#x27;,\n",
       "                                  &#x27;type&#x27;])])</pre></div></div></div><div class=\"sk-parallel\"><div class=\"sk-parallel-item\"><div class=\"sk-item\"><div class=\"sk-label-container\"><div class=\"sk-label sk-toggleable\"><input class=\"sk-toggleable__control sk-hidden--visually\" id=\"sk-estimator-id-10\" type=\"checkbox\" ><label for=\"sk-estimator-id-10\" class=\"sk-toggleable__label sk-toggleable__label-arrow\">standardscaler</label><div class=\"sk-toggleable__content\"><pre>[&#x27;carat&#x27;]</pre></div></div></div><div class=\"sk-serial\"><div class=\"sk-item\"><div class=\"sk-estimator sk-toggleable\"><input class=\"sk-toggleable__control sk-hidden--visually\" id=\"sk-estimator-id-11\" type=\"checkbox\" ><label for=\"sk-estimator-id-11\" class=\"sk-toggleable__label sk-toggleable__label-arrow\">StandardScaler</label><div class=\"sk-toggleable__content\"><pre>StandardScaler()</pre></div></div></div></div></div></div><div class=\"sk-parallel-item\"><div class=\"sk-item\"><div class=\"sk-label-container\"><div class=\"sk-label sk-toggleable\"><input class=\"sk-toggleable__control sk-hidden--visually\" id=\"sk-estimator-id-12\" type=\"checkbox\" ><label for=\"sk-estimator-id-12\" class=\"sk-toggleable__label sk-toggleable__label-arrow\">onehotencoder</label><div class=\"sk-toggleable__content\"><pre>[&#x27;shape&#x27;, &#x27;cut&#x27;, &#x27;color&#x27;, &#x27;clarity&#x27;, &#x27;report&#x27;, &#x27;type&#x27;]</pre></div></div></div><div class=\"sk-serial\"><div class=\"sk-item\"><div class=\"sk-estimator sk-toggleable\"><input class=\"sk-toggleable__control sk-hidden--visually\" id=\"sk-estimator-id-13\" type=\"checkbox\" ><label for=\"sk-estimator-id-13\" class=\"sk-toggleable__label sk-toggleable__label-arrow\">OneHotEncoder</label><div class=\"sk-toggleable__content\"><pre>OneHotEncoder(handle_unknown=&#x27;ignore&#x27;)</pre></div></div></div></div></div></div></div></div><div class=\"sk-item\"><div class=\"sk-estimator sk-toggleable\"><input class=\"sk-toggleable__control sk-hidden--visually\" id=\"sk-estimator-id-14\" type=\"checkbox\" ><label for=\"sk-estimator-id-14\" class=\"sk-toggleable__label sk-toggleable__label-arrow\">DecisionTreeRegressor</label><div class=\"sk-toggleable__content\"><pre>DecisionTreeRegressor()</pre></div></div></div></div></div></div></div>"
      ],
      "text/plain": [
       "Pipeline(steps=[('columntransformer',\n",
       "                 ColumnTransformer(transformers=[('standardscaler',\n",
       "                                                  StandardScaler(), ['carat']),\n",
       "                                                 ('onehotencoder',\n",
       "                                                  OneHotEncoder(handle_unknown='ignore'),\n",
       "                                                  ['shape', 'cut', 'color',\n",
       "                                                   'clarity', 'report',\n",
       "                                                   'type'])])),\n",
       "                ('decisiontreeregressor', DecisionTreeRegressor())])"
      ]
     },
     "execution_count": 42,
     "metadata": {},
     "output_type": "execute_result"
    }
   ],
   "source": [
    "model_pipeline.fit(Xtrain, ytrain)"
   ]
  },
  {
   "cell_type": "code",
   "execution_count": 44,
   "id": "471e4c26-4b3a-474c-9d6f-6a87ce516711",
   "metadata": {},
   "outputs": [
    {
     "data": {
      "text/plain": [
       "{'columntransformer': ColumnTransformer(transformers=[('standardscaler', StandardScaler(), ['carat']),\n",
       "                                 ('onehotencoder',\n",
       "                                  OneHotEncoder(handle_unknown='ignore'),\n",
       "                                  ['shape', 'cut', 'color', 'clarity', 'report',\n",
       "                                   'type'])]),\n",
       " 'decisiontreeregressor': DecisionTreeRegressor()}"
      ]
     },
     "execution_count": 44,
     "metadata": {},
     "output_type": "execute_result"
    }
   ],
   "source": [
    "model_pipeline.named_steps"
   ]
  },
  {
   "cell_type": "code",
   "execution_count": 68,
   "id": "ca2dd4d2-f894-401c-95e6-7f3a512868ee",
   "metadata": {},
   "outputs": [],
   "source": [
    "# model_pipeline.named_steps['columntransformer'].transformers_[1][1].get"
   ]
  },
  {
   "cell_type": "code",
   "execution_count": 46,
   "id": "7ac04598-fc19-4c56-a385-e24aff7151bc",
   "metadata": {},
   "outputs": [
    {
     "data": {
      "text/plain": [
       "[('standardscaler', StandardScaler(), ['carat']),\n",
       " ('onehotencoder',\n",
       "  OneHotEncoder(handle_unknown='ignore'),\n",
       "  ['shape', 'cut', 'color', 'clarity', 'report', 'type'])]"
      ]
     },
     "execution_count": 46,
     "metadata": {},
     "output_type": "execute_result"
    }
   ],
   "source": [
    "model_pipeline.named_steps['columntransformer'].transformers_"
   ]
  },
  {
   "cell_type": "markdown",
   "id": "235019ec-81d7-48bc-b633-2ca8f396acd5",
   "metadata": {},
   "source": [
    "#### Step 4: Serialize Model\n",
    "\n",
    "In order to make sure the model is stored and accessible for making prediction even if the Jupyter Intrepeter is shutdown. "
   ]
  },
  {
   "cell_type": "code",
   "execution_count": 49,
   "id": "ac105b5f-bf12-4d18-81eb-25234d20a51d",
   "metadata": {},
   "outputs": [],
   "source": [
    "saved_model_path = \"models/model-v1.joblib\""
   ]
  },
  {
   "cell_type": "code",
   "execution_count": 52,
   "id": "ae23e3b3-55f3-4309-8b02-4287b8b9289e",
   "metadata": {},
   "outputs": [
    {
     "data": {
      "text/plain": [
       "['models/model-v1.joblib']"
      ]
     },
     "execution_count": 52,
     "metadata": {},
     "output_type": "execute_result"
    }
   ],
   "source": [
    "joblib.dump(model_pipeline, saved_model_path)"
   ]
  },
  {
   "cell_type": "code",
   "execution_count": 56,
   "id": "8479a855-e6f7-4941-8182-92548b75167c",
   "metadata": {},
   "outputs": [
    {
     "data": {
      "text/plain": [
       "5312064"
      ]
     },
     "execution_count": 56,
     "metadata": {},
     "output_type": "execute_result"
    }
   ],
   "source": [
    "os.path.getsize(saved_model_path)"
   ]
  },
  {
   "cell_type": "markdown",
   "id": "7cc84166-8a1d-4012-913e-dea12b847256",
   "metadata": {},
   "source": [
    "`Observation` : 5.1MB file is saved on the Disk. "
   ]
  },
  {
   "cell_type": "code",
   "execution_count": 57,
   "id": "05389879-c13b-48d4-94b1-5cc5eae10df8",
   "metadata": {},
   "outputs": [],
   "source": [
    "saved_model = joblib.load(\"models/model-v1.joblib\")"
   ]
  },
  {
   "cell_type": "code",
   "execution_count": 58,
   "id": "454ad7c8-3d80-478a-973e-b76bd8849e90",
   "metadata": {},
   "outputs": [
    {
     "data": {
      "text/html": [
       "<style>#sk-container-id-3 {color: black;}#sk-container-id-3 pre{padding: 0;}#sk-container-id-3 div.sk-toggleable {background-color: white;}#sk-container-id-3 label.sk-toggleable__label {cursor: pointer;display: block;width: 100%;margin-bottom: 0;padding: 0.3em;box-sizing: border-box;text-align: center;}#sk-container-id-3 label.sk-toggleable__label-arrow:before {content: \"▸\";float: left;margin-right: 0.25em;color: #696969;}#sk-container-id-3 label.sk-toggleable__label-arrow:hover:before {color: black;}#sk-container-id-3 div.sk-estimator:hover label.sk-toggleable__label-arrow:before {color: black;}#sk-container-id-3 div.sk-toggleable__content {max-height: 0;max-width: 0;overflow: hidden;text-align: left;background-color: #f0f8ff;}#sk-container-id-3 div.sk-toggleable__content pre {margin: 0.2em;color: black;border-radius: 0.25em;background-color: #f0f8ff;}#sk-container-id-3 input.sk-toggleable__control:checked~div.sk-toggleable__content {max-height: 200px;max-width: 100%;overflow: auto;}#sk-container-id-3 input.sk-toggleable__control:checked~label.sk-toggleable__label-arrow:before {content: \"▾\";}#sk-container-id-3 div.sk-estimator input.sk-toggleable__control:checked~label.sk-toggleable__label {background-color: #d4ebff;}#sk-container-id-3 div.sk-label input.sk-toggleable__control:checked~label.sk-toggleable__label {background-color: #d4ebff;}#sk-container-id-3 input.sk-hidden--visually {border: 0;clip: rect(1px 1px 1px 1px);clip: rect(1px, 1px, 1px, 1px);height: 1px;margin: -1px;overflow: hidden;padding: 0;position: absolute;width: 1px;}#sk-container-id-3 div.sk-estimator {font-family: monospace;background-color: #f0f8ff;border: 1px dotted black;border-radius: 0.25em;box-sizing: border-box;margin-bottom: 0.5em;}#sk-container-id-3 div.sk-estimator:hover {background-color: #d4ebff;}#sk-container-id-3 div.sk-parallel-item::after {content: \"\";width: 100%;border-bottom: 1px solid gray;flex-grow: 1;}#sk-container-id-3 div.sk-label:hover label.sk-toggleable__label {background-color: #d4ebff;}#sk-container-id-3 div.sk-serial::before {content: \"\";position: absolute;border-left: 1px solid gray;box-sizing: border-box;top: 0;bottom: 0;left: 50%;z-index: 0;}#sk-container-id-3 div.sk-serial {display: flex;flex-direction: column;align-items: center;background-color: white;padding-right: 0.2em;padding-left: 0.2em;position: relative;}#sk-container-id-3 div.sk-item {position: relative;z-index: 1;}#sk-container-id-3 div.sk-parallel {display: flex;align-items: stretch;justify-content: center;background-color: white;position: relative;}#sk-container-id-3 div.sk-item::before, #sk-container-id-3 div.sk-parallel-item::before {content: \"\";position: absolute;border-left: 1px solid gray;box-sizing: border-box;top: 0;bottom: 0;left: 50%;z-index: -1;}#sk-container-id-3 div.sk-parallel-item {display: flex;flex-direction: column;z-index: 1;position: relative;background-color: white;}#sk-container-id-3 div.sk-parallel-item:first-child::after {align-self: flex-end;width: 50%;}#sk-container-id-3 div.sk-parallel-item:last-child::after {align-self: flex-start;width: 50%;}#sk-container-id-3 div.sk-parallel-item:only-child::after {width: 0;}#sk-container-id-3 div.sk-dashed-wrapped {border: 1px dashed gray;margin: 0 0.4em 0.5em 0.4em;box-sizing: border-box;padding-bottom: 0.4em;background-color: white;}#sk-container-id-3 div.sk-label label {font-family: monospace;font-weight: bold;display: inline-block;line-height: 1.2em;}#sk-container-id-3 div.sk-label-container {text-align: center;}#sk-container-id-3 div.sk-container {/* jupyter's `normalize.less` sets `[hidden] { display: none; }` but bootstrap.min.css set `[hidden] { display: none !important; }` so we also need the `!important` here to be able to override the default hidden behavior on the sphinx rendered scikit-learn.org. See: https://github.com/scikit-learn/scikit-learn/issues/21755 */display: inline-block !important;position: relative;}#sk-container-id-3 div.sk-text-repr-fallback {display: none;}</style><div id=\"sk-container-id-3\" class=\"sk-top-container\"><div class=\"sk-text-repr-fallback\"><pre>Pipeline(steps=[(&#x27;columntransformer&#x27;,\n",
       "                 ColumnTransformer(transformers=[(&#x27;standardscaler&#x27;,\n",
       "                                                  StandardScaler(), [&#x27;carat&#x27;]),\n",
       "                                                 (&#x27;onehotencoder&#x27;,\n",
       "                                                  OneHotEncoder(handle_unknown=&#x27;ignore&#x27;),\n",
       "                                                  [&#x27;shape&#x27;, &#x27;cut&#x27;, &#x27;color&#x27;,\n",
       "                                                   &#x27;clarity&#x27;, &#x27;report&#x27;,\n",
       "                                                   &#x27;type&#x27;])])),\n",
       "                (&#x27;decisiontreeregressor&#x27;, DecisionTreeRegressor())])</pre><b>In a Jupyter environment, please rerun this cell to show the HTML representation or trust the notebook. <br />On GitHub, the HTML representation is unable to render, please try loading this page with nbviewer.org.</b></div><div class=\"sk-container\" hidden><div class=\"sk-item sk-dashed-wrapped\"><div class=\"sk-label-container\"><div class=\"sk-label sk-toggleable\"><input class=\"sk-toggleable__control sk-hidden--visually\" id=\"sk-estimator-id-15\" type=\"checkbox\" ><label for=\"sk-estimator-id-15\" class=\"sk-toggleable__label sk-toggleable__label-arrow\">Pipeline</label><div class=\"sk-toggleable__content\"><pre>Pipeline(steps=[(&#x27;columntransformer&#x27;,\n",
       "                 ColumnTransformer(transformers=[(&#x27;standardscaler&#x27;,\n",
       "                                                  StandardScaler(), [&#x27;carat&#x27;]),\n",
       "                                                 (&#x27;onehotencoder&#x27;,\n",
       "                                                  OneHotEncoder(handle_unknown=&#x27;ignore&#x27;),\n",
       "                                                  [&#x27;shape&#x27;, &#x27;cut&#x27;, &#x27;color&#x27;,\n",
       "                                                   &#x27;clarity&#x27;, &#x27;report&#x27;,\n",
       "                                                   &#x27;type&#x27;])])),\n",
       "                (&#x27;decisiontreeregressor&#x27;, DecisionTreeRegressor())])</pre></div></div></div><div class=\"sk-serial\"><div class=\"sk-item sk-dashed-wrapped\"><div class=\"sk-label-container\"><div class=\"sk-label sk-toggleable\"><input class=\"sk-toggleable__control sk-hidden--visually\" id=\"sk-estimator-id-16\" type=\"checkbox\" ><label for=\"sk-estimator-id-16\" class=\"sk-toggleable__label sk-toggleable__label-arrow\">columntransformer: ColumnTransformer</label><div class=\"sk-toggleable__content\"><pre>ColumnTransformer(transformers=[(&#x27;standardscaler&#x27;, StandardScaler(), [&#x27;carat&#x27;]),\n",
       "                                (&#x27;onehotencoder&#x27;,\n",
       "                                 OneHotEncoder(handle_unknown=&#x27;ignore&#x27;),\n",
       "                                 [&#x27;shape&#x27;, &#x27;cut&#x27;, &#x27;color&#x27;, &#x27;clarity&#x27;, &#x27;report&#x27;,\n",
       "                                  &#x27;type&#x27;])])</pre></div></div></div><div class=\"sk-parallel\"><div class=\"sk-parallel-item\"><div class=\"sk-item\"><div class=\"sk-label-container\"><div class=\"sk-label sk-toggleable\"><input class=\"sk-toggleable__control sk-hidden--visually\" id=\"sk-estimator-id-17\" type=\"checkbox\" ><label for=\"sk-estimator-id-17\" class=\"sk-toggleable__label sk-toggleable__label-arrow\">standardscaler</label><div class=\"sk-toggleable__content\"><pre>[&#x27;carat&#x27;]</pre></div></div></div><div class=\"sk-serial\"><div class=\"sk-item\"><div class=\"sk-estimator sk-toggleable\"><input class=\"sk-toggleable__control sk-hidden--visually\" id=\"sk-estimator-id-18\" type=\"checkbox\" ><label for=\"sk-estimator-id-18\" class=\"sk-toggleable__label sk-toggleable__label-arrow\">StandardScaler</label><div class=\"sk-toggleable__content\"><pre>StandardScaler()</pre></div></div></div></div></div></div><div class=\"sk-parallel-item\"><div class=\"sk-item\"><div class=\"sk-label-container\"><div class=\"sk-label sk-toggleable\"><input class=\"sk-toggleable__control sk-hidden--visually\" id=\"sk-estimator-id-19\" type=\"checkbox\" ><label for=\"sk-estimator-id-19\" class=\"sk-toggleable__label sk-toggleable__label-arrow\">onehotencoder</label><div class=\"sk-toggleable__content\"><pre>[&#x27;shape&#x27;, &#x27;cut&#x27;, &#x27;color&#x27;, &#x27;clarity&#x27;, &#x27;report&#x27;, &#x27;type&#x27;]</pre></div></div></div><div class=\"sk-serial\"><div class=\"sk-item\"><div class=\"sk-estimator sk-toggleable\"><input class=\"sk-toggleable__control sk-hidden--visually\" id=\"sk-estimator-id-20\" type=\"checkbox\" ><label for=\"sk-estimator-id-20\" class=\"sk-toggleable__label sk-toggleable__label-arrow\">OneHotEncoder</label><div class=\"sk-toggleable__content\"><pre>OneHotEncoder(handle_unknown=&#x27;ignore&#x27;)</pre></div></div></div></div></div></div></div></div><div class=\"sk-item\"><div class=\"sk-estimator sk-toggleable\"><input class=\"sk-toggleable__control sk-hidden--visually\" id=\"sk-estimator-id-21\" type=\"checkbox\" ><label for=\"sk-estimator-id-21\" class=\"sk-toggleable__label sk-toggleable__label-arrow\">DecisionTreeRegressor</label><div class=\"sk-toggleable__content\"><pre>DecisionTreeRegressor()</pre></div></div></div></div></div></div></div>"
      ],
      "text/plain": [
       "Pipeline(steps=[('columntransformer',\n",
       "                 ColumnTransformer(transformers=[('standardscaler',\n",
       "                                                  StandardScaler(), ['carat']),\n",
       "                                                 ('onehotencoder',\n",
       "                                                  OneHotEncoder(handle_unknown='ignore'),\n",
       "                                                  ['shape', 'cut', 'color',\n",
       "                                                   'clarity', 'report',\n",
       "                                                   'type'])])),\n",
       "                ('decisiontreeregressor', DecisionTreeRegressor())])"
      ]
     },
     "execution_count": 58,
     "metadata": {},
     "output_type": "execute_result"
    }
   ],
   "source": [
    "saved_model"
   ]
  },
  {
   "cell_type": "code",
   "execution_count": 66,
   "id": "7b18e4d7-7ab3-428b-a3b3-7bcb237e2431",
   "metadata": {},
   "outputs": [
    {
     "name": "stdout",
     "output_type": "stream",
     "text": [
      "405.18052086281756\n"
     ]
    }
   ],
   "source": [
    "print(mean_absolute_error(ytest, saved_model.predict(Xtest)))"
   ]
  },
  {
   "cell_type": "code",
   "execution_count": 67,
   "id": "ba62efe5-ce00-4f0f-9cce-cb823f725480",
   "metadata": {},
   "outputs": [],
   "source": [
    "# Saving the version\n",
    "Xtrain.to_csv('data/20230322_training_features.csv', index=False)\n",
    "ytrain.to_csv('data/20230322_training_target.csv', index=False)"
   ]
  },
  {
   "cell_type": "code",
   "execution_count": null,
   "id": "7fb2eaee-7187-4938-9b7a-5e4fe8dec881",
   "metadata": {},
   "outputs": [],
   "source": []
  }
 ],
 "metadata": {
  "kernelspec": {
   "display_name": "Python 3 (ipykernel)",
   "language": "python",
   "name": "python3"
  },
  "language_info": {
   "codemirror_mode": {
    "name": "ipython",
    "version": 3
   },
   "file_extension": ".py",
   "mimetype": "text/x-python",
   "name": "python",
   "nbconvert_exporter": "python",
   "pygments_lexer": "ipython3",
   "version": "3.8.13"
  }
 },
 "nbformat": 4,
 "nbformat_minor": 5
}
